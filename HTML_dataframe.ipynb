{
 "cells": [
  {
   "cell_type": "code",
   "execution_count": 1,
   "id": "dcb427b4-f841-453d-83b7-bd14100d868a",
   "metadata": {},
   "outputs": [],
   "source": [
    "from sklearn.feature_extraction.text import CountVectorizer\n",
    "from bs4 import BeautifulSoup\n",
    "import re\n",
    "import joblib\n",
    "import os\n",
    "import glob\n",
    "import pandas as pd"
   ]
  },
  {
   "cell_type": "code",
   "execution_count": 2,
   "id": "4c6fd34a-597b-4222-8222-b0dcb7bed291",
   "metadata": {},
   "outputs": [],
   "source": [
    "# documento = '477918-calentamiento-global-la-comunidad-cientifica-internacional-l.html'\n",
    "ruta_documentos = r'C:\\Users\\nacho\\My Drive\\3.- MCD\\3.- Materias\\18.- Web Mining\\Práctica\\TP1\\Articulos_test_ultima_semana'"
   ]
  },
  {
   "cell_type": "markdown",
   "id": "16e20a31-5912-4786-844d-ee196c11f4fd",
   "metadata": {},
   "source": [
    "## Funciones"
   ]
  },
  {
   "cell_type": "code",
   "execution_count": 3,
   "id": "a40b8908-6224-448f-8cf6-55530273a1f6",
   "metadata": {},
   "outputs": [],
   "source": [
    "def leer_html(documento):\n",
    "    \"\"\"\n",
    "    Lee documentos html.\n",
    "    \"\"\"\n",
    "    DOCUMENTO = open(documento,\"rt\", encoding=\"utf-8\").read() # se agrega el encoding.\n",
    "    return DOCUMENTO"
   ]
  },
  {
   "cell_type": "code",
   "execution_count": 4,
   "id": "b7f3d42a-e8c4-4a55-bf7b-41499d18529d",
   "metadata": {},
   "outputs": [],
   "source": [
    "def extractor(delimitador, doc_html):\n",
    "    \"\"\"\n",
    "    Estrae texto del html a partir del delimitador que se use.\n",
    "    delimitador: expresión usada para busqueda del fragmento de texto a extraer.\n",
    "    doc_html: documento sobre el cual se extraerá el texto.\n",
    "    Nota: beautifulsoup hace todo el trabajo de ignorar los tags de html y convertir las entidades (p.ej. &ntilde;) a letras (p.ej. ñ)\n",
    "    \"\"\"\n",
    "    try:\n",
    "        match = delimitador.search(doc_html.replace(\"\\n\",\"\"))\n",
    "        extractor_html = BeautifulSoup(match.group(1), 'html.parser')\n",
    "        texto = extractor_html.get_text(separator=\" \", strip=True)\n",
    "    except:\n",
    "        texto = None\n",
    "    \n",
    "    return texto"
   ]
  },
  {
   "cell_type": "code",
   "execution_count": 5,
   "id": "6d889b4e-e592-4b5c-856e-fa0168fb0713",
   "metadata": {},
   "outputs": [],
   "source": [
    "def lista_archivos(ruta_documentos):\n",
    "    archivos = []\n",
    "    # search all files inside a specific folder\n",
    "    # *.* means file name with any extension\n",
    "    dir_path = ruta_documentos + '\\**\\*.html'\n",
    "    for file in glob.glob(dir_path, recursive=True):\n",
    "        archivos.append(file)\n",
    "    return archivos"
   ]
  },
  {
   "cell_type": "code",
   "execution_count": 6,
   "id": "467590a7-db8d-4a7a-9670-a399cbc2ced4",
   "metadata": {},
   "outputs": [],
   "source": [
    "def get_immediate_subdirectories(a_dir):\n",
    "    return [name for name in os.listdir(a_dir)\n",
    "            if os.path.isdir(os.path.join(a_dir, name))]"
   ]
  },
  {
   "cell_type": "markdown",
   "id": "a67343b3-cde0-4f7c-a4fb-7bc051c01c1e",
   "metadata": {},
   "source": [
    "## Delimitadores para búsqueda en html"
   ]
  },
  {
   "cell_type": "code",
   "execution_count": 7,
   "id": "a3106070-169f-4e51-9379-cc0ee2a29829",
   "metadata": {},
   "outputs": [],
   "source": [
    "# Delimitadores de la fecha que se quiere extraer:\n",
    "MARCADOR_COMIENZO_FECHA = '<time datetime=\\\"'\n",
    "MARCADOR_FIN_FECHA = r'T\\d{2}:\\d{2}:\\d{2}-03:00'"
   ]
  },
  {
   "cell_type": "code",
   "execution_count": 8,
   "id": "9d11aaff-d0a3-4f2b-a6bc-80976c2d6755",
   "metadata": {},
   "outputs": [],
   "source": [
    "# Delimitadores del texto que se quiere extraer:\n",
    "MARCADOR_COMIENZO_INTERESANTE=\"<p>\"\n",
    "MARCADOR_FIN_INTERESANTE=\"</main>\""
   ]
  },
  {
   "cell_type": "code",
   "execution_count": 9,
   "id": "04d3d14a-24a8-4f9c-8a0f-f89ee7a21e61",
   "metadata": {},
   "outputs": [],
   "source": [
    "fecha_interes = re.compile(re.escape(MARCADOR_COMIENZO_FECHA) + '(.+)' + MARCADOR_FIN_FECHA)\n",
    "texto_interes = re.compile(re.escape(MARCADOR_COMIENZO_INTERESANTE) +'(.+)'+ re.escape(MARCADOR_FIN_INTERESANTE))"
   ]
  },
  {
   "cell_type": "markdown",
   "id": "fad0dc09-6553-4f84-b2cc-25d70f525cae",
   "metadata": {},
   "source": [
    "## Cálculo "
   ]
  },
  {
   "cell_type": "code",
   "execution_count": 10,
   "id": "63bc357d-7f5d-4e45-8e64-4043574b5a84",
   "metadata": {},
   "outputs": [],
   "source": [
    "fechas = []\n",
    "textos = []\n",
    "targets = []\n",
    "notas = []\n",
    "temas= get_immediate_subdirectories(ruta_documentos)\n",
    "nota_problema = []\n",
    "fecha_problema = []\n",
    "tema_problema = []\n",
    "\n",
    "for documento in lista_archivos(ruta_documentos):\n",
    "\n",
    "    for tema in temas:\n",
    "        if f\"\\\\{tema}\\\\\" in documento:\n",
    "            target = tema\n",
    "    # print(documento)\n",
    "    # print(target)        \n",
    "    fecha = extractor(fecha_interes,leer_html(documento))\n",
    "    texto = extractor(texto_interes,leer_html(documento))\n",
    "            \n",
    "    if texto is None:\n",
    "        fecha_problema.append(fecha)\n",
    "        tema_problema.append(target)\n",
    "        nota_problema.append(os.path.basename(documento))\n",
    "    else:\n",
    "        # print(fecha)\n",
    "        # print(target)\n",
    "        # print(documento)\n",
    "        fechas.append(fecha)\n",
    "        textos.append(texto)\n",
    "        targets.append(target)\n",
    "        notas.append(os.path.basename(documento))"
   ]
  },
  {
   "cell_type": "code",
   "execution_count": 11,
   "id": "47d2f1a3-722c-43fc-8152-e157d64e8878",
   "metadata": {},
   "outputs": [],
   "source": [
    "# ruta_prueba = r'C:\\Users\\nacho\\My Drive\\3.- MCD\\3.- Materias\\18.- Web Mining\\Práctica\\TP1\\Articulos\\sociedad\\437675-hay-casi-tres-mil-camiones-varados-en-mendoza.html'\n",
    "# texto = extractor(texto_interes,leer_html(ruta_prueba))"
   ]
  },
  {
   "cell_type": "code",
   "execution_count": 12,
   "id": "c8c9bea4-16d5-4517-bdd6-36b9e7fb7fa0",
   "metadata": {},
   "outputs": [],
   "source": [
    "datos = {'FECHA':fechas, 'TARGET':targets ,'NOTA':notas,'TEXTO':textos}\n",
    "data = pd.DataFrame(datos)"
   ]
  },
  {
   "cell_type": "code",
   "execution_count": 13,
   "id": "c3958bfc-e8ef-4919-b67f-fcd71cc44372",
   "metadata": {},
   "outputs": [],
   "source": [
    "problemas = {'FECHA':fecha_problema, 'TARGET':tema_problema, 'NOTA':nota_problema}\n",
    "problema = pd.DataFrame(problemas)"
   ]
  },
  {
   "cell_type": "code",
   "execution_count": 14,
   "id": "f83e1d5a-0831-4bd0-bf7a-0d23080b02fa",
   "metadata": {},
   "outputs": [
    {
     "data": {
      "text/plain": [
       "(263, 4)"
      ]
     },
     "execution_count": 14,
     "metadata": {},
     "output_type": "execute_result"
    }
   ],
   "source": [
    "data.shape"
   ]
  },
  {
   "cell_type": "code",
   "execution_count": 16,
   "id": "5a8d692c-66a0-4d44-9a0d-38ab9bb4ed81",
   "metadata": {},
   "outputs": [
    {
     "data": {
      "text/html": [
       "<div>\n",
       "<style scoped>\n",
       "    .dataframe tbody tr th:only-of-type {\n",
       "        vertical-align: middle;\n",
       "    }\n",
       "\n",
       "    .dataframe tbody tr th {\n",
       "        vertical-align: top;\n",
       "    }\n",
       "\n",
       "    .dataframe thead th {\n",
       "        text-align: right;\n",
       "    }\n",
       "</style>\n",
       "<table border=\"1\" class=\"dataframe\">\n",
       "  <thead>\n",
       "    <tr style=\"text-align: right;\">\n",
       "      <th></th>\n",
       "      <th>FECHA</th>\n",
       "      <th>TARGET</th>\n",
       "      <th>NOTA</th>\n",
       "      <th>TEXTO</th>\n",
       "    </tr>\n",
       "  </thead>\n",
       "  <tbody>\n",
       "    <tr>\n",
       "      <th>0</th>\n",
       "      <td>2022-09-05</td>\n",
       "      <td>economia</td>\n",
       "      <td>478671-cuenta-dni-que-es-y-como-funciona-la-pl...</td>\n",
       "      <td>La aplicación Cuenta DNI del Banco Provincia d...</td>\n",
       "    </tr>\n",
       "    <tr>\n",
       "      <th>1</th>\n",
       "      <td>2022-09-04</td>\n",
       "      <td>economia</td>\n",
       "      <td>479043-massa-a-ee-uu-viaje-geopolitico-dolares...</td>\n",
       "      <td>Casi al lado del despacho del ministro de Econ...</td>\n",
       "    </tr>\n",
       "    <tr>\n",
       "      <th>2</th>\n",
       "      <td>2022-09-04</td>\n",
       "      <td>economia</td>\n",
       "      <td>479068-dolares-por-que-paso-donde-estan-y-que-...</td>\n",
       "      <td>La balanza comercial de los últimos dos meses ...</td>\n",
       "    </tr>\n",
       "    <tr>\n",
       "      <th>3</th>\n",
       "      <td>2022-09-04</td>\n",
       "      <td>economia</td>\n",
       "      <td>479133-un-desierto-de-dolares-3000-metros-bajo...</td>\n",
       "      <td>Desde Neuquén La llegada a Vaca Muerta se intu...</td>\n",
       "    </tr>\n",
       "    <tr>\n",
       "      <th>4</th>\n",
       "      <td>2022-09-04</td>\n",
       "      <td>economia</td>\n",
       "      <td>479163-desde-este-lunes-los-cigarrillos-aument...</td>\n",
       "      <td>Desde este lunes 5 de septiembre, todos los pr...</td>\n",
       "    </tr>\n",
       "  </tbody>\n",
       "</table>\n",
       "</div>"
      ],
      "text/plain": [
       "        FECHA    TARGET                                               NOTA  \\\n",
       "0  2022-09-05  economia  478671-cuenta-dni-que-es-y-como-funciona-la-pl...   \n",
       "1  2022-09-04  economia  479043-massa-a-ee-uu-viaje-geopolitico-dolares...   \n",
       "2  2022-09-04  economia  479068-dolares-por-que-paso-donde-estan-y-que-...   \n",
       "3  2022-09-04  economia  479133-un-desierto-de-dolares-3000-metros-bajo...   \n",
       "4  2022-09-04  economia  479163-desde-este-lunes-los-cigarrillos-aument...   \n",
       "\n",
       "                                               TEXTO  \n",
       "0  La aplicación Cuenta DNI del Banco Provincia d...  \n",
       "1  Casi al lado del despacho del ministro de Econ...  \n",
       "2  La balanza comercial de los últimos dos meses ...  \n",
       "3  Desde Neuquén La llegada a Vaca Muerta se intu...  \n",
       "4  Desde este lunes 5 de septiembre, todos los pr...  "
      ]
     },
     "execution_count": 16,
     "metadata": {},
     "output_type": "execute_result"
    }
   ],
   "source": [
    "data.head()"
   ]
  },
  {
   "cell_type": "code",
   "execution_count": 17,
   "id": "7732a29f-29a9-4f82-9ce7-77dfd698c1ba",
   "metadata": {},
   "outputs": [
    {
     "data": {
      "text/html": [
       "<div>\n",
       "<style scoped>\n",
       "    .dataframe tbody tr th:only-of-type {\n",
       "        vertical-align: middle;\n",
       "    }\n",
       "\n",
       "    .dataframe tbody tr th {\n",
       "        vertical-align: top;\n",
       "    }\n",
       "\n",
       "    .dataframe thead th {\n",
       "        text-align: right;\n",
       "    }\n",
       "</style>\n",
       "<table border=\"1\" class=\"dataframe\">\n",
       "  <thead>\n",
       "    <tr style=\"text-align: right;\">\n",
       "      <th></th>\n",
       "      <th>NOTA</th>\n",
       "    </tr>\n",
       "    <tr>\n",
       "      <th>TARGET</th>\n",
       "      <th></th>\n",
       "    </tr>\n",
       "  </thead>\n",
       "  <tbody>\n",
       "    <tr>\n",
       "      <th>economia</th>\n",
       "      <td>66</td>\n",
       "    </tr>\n",
       "    <tr>\n",
       "      <th>el-mundo</th>\n",
       "      <td>65</td>\n",
       "    </tr>\n",
       "    <tr>\n",
       "      <th>el-pais</th>\n",
       "      <td>66</td>\n",
       "    </tr>\n",
       "    <tr>\n",
       "      <th>sociedad</th>\n",
       "      <td>66</td>\n",
       "    </tr>\n",
       "  </tbody>\n",
       "</table>\n",
       "</div>"
      ],
      "text/plain": [
       "          NOTA\n",
       "TARGET        \n",
       "economia    66\n",
       "el-mundo    65\n",
       "el-pais     66\n",
       "sociedad    66"
      ]
     },
     "execution_count": 17,
     "metadata": {},
     "output_type": "execute_result"
    }
   ],
   "source": [
    "data[['TARGET','NOTA']].groupby(by='TARGET').count()"
   ]
  },
  {
   "cell_type": "code",
   "execution_count": 19,
   "id": "499869cb-b8b4-4ba7-b3f3-7e948b5482d5",
   "metadata": {},
   "outputs": [
    {
     "data": {
      "text/plain": [
       "(263,)"
      ]
     },
     "execution_count": 19,
     "metadata": {},
     "output_type": "execute_result"
    }
   ],
   "source": [
    "data.NOTA.unique().shape"
   ]
  },
  {
   "cell_type": "code",
   "execution_count": 35,
   "id": "f41cfc7a-073d-4f92-8ce2-45e0419e1cec",
   "metadata": {},
   "outputs": [
    {
     "data": {
      "text/html": [
       "<div>\n",
       "<style scoped>\n",
       "    .dataframe tbody tr th:only-of-type {\n",
       "        vertical-align: middle;\n",
       "    }\n",
       "\n",
       "    .dataframe tbody tr th {\n",
       "        vertical-align: top;\n",
       "    }\n",
       "\n",
       "    .dataframe thead th {\n",
       "        text-align: right;\n",
       "    }\n",
       "</style>\n",
       "<table border=\"1\" class=\"dataframe\">\n",
       "  <thead>\n",
       "    <tr style=\"text-align: right;\">\n",
       "      <th></th>\n",
       "      <th>FECHA</th>\n",
       "      <th>TARGET</th>\n",
       "      <th>NOTA</th>\n",
       "      <th>TEXTO</th>\n",
       "    </tr>\n",
       "  </thead>\n",
       "  <tbody>\n",
       "    <tr>\n",
       "      <th>87</th>\n",
       "      <td>2022-09-04</td>\n",
       "      <td>el-mundo</td>\n",
       "      <td>479203-chile-vota-el-destino-de-una-nueva-cons...</td>\n",
       "      <td>El presidente de Colombia, Gustavo Petro , rea...</td>\n",
       "    </tr>\n",
       "  </tbody>\n",
       "</table>\n",
       "</div>"
      ],
      "text/plain": [
       "         FECHA    TARGET                                               NOTA  \\\n",
       "87  2022-09-04  el-mundo  479203-chile-vota-el-destino-de-una-nueva-cons...   \n",
       "\n",
       "                                                TEXTO  \n",
       "87  El presidente de Colombia, Gustavo Petro , rea...  "
      ]
     },
     "execution_count": 35,
     "metadata": {},
     "output_type": "execute_result"
    }
   ],
   "source": [
    "data[data.TEXTO.str.contains('ImageObject') == True]"
   ]
  },
  {
   "cell_type": "code",
   "execution_count": 34,
   "id": "1c3594d5-0c01-465e-bbde-0bf570bdf1fa",
   "metadata": {},
   "outputs": [
    {
     "data": {
      "text/plain": [
       "'El presidente de Colombia, Gustavo Petro , reaccionó este domingo al resultado del plebiscito en Chile . \\\\\" Revivió Pinochet \\\\\", escribió en Twitter. \\\\\"Sólo si las fuerzas democráticas y sociales se unen, será posible dejar atrás un pasado que mancha a toda América Latina y abrir las alamedas democráticas\\\\\", agregó el mandatario colombiano. En Twitter también se expresó el antecesor de Petro, Iván Duque . El expresidente de derecha, escribió que \\\\\"habló el pueblo chileno en una bella jornada democrática\\\\\". \\\\\"Triunfó la sensatez sobre las imposiciones ideologizas que fracturarían para siempre una sociedad que ha alcanzado importantes logros sociales y económicos\\\\\". \",\"mainEntityOfPage\":{\"@type\":\"WebPage\"},\"publisher\":{\"@type\":\"Organization\",\"@id\":\"#PublisherOrg\",\"name\":\"Página12\",\"logo\":{\"@type\":\"ImageObject\",\"url\":\"https://www.pagina12.com.ar/assets/media/logo_default_p12.png\",\"width\":\"600\",\"height\":\"60\"}},\"image\":{\"@type\":\"ImageObject\",\"url\":\"https://www.pagina12.com.ar/assets/media/logo_default_p12.png\"},\"author\":{\"@type\":\"Person\",\"name\":\"Página12\"}},{\"@type\":\"BlogPosting\",\"headline\":\"Una mayoría no quiso dejar atrás la herencia de Pinochet\",\"datePublished\":\"2022-09-05T00:08:58.000Z\",\"dateModified\":\"2022-09-05T00:08:58.000Z\",\"articleBody\":\" Los chilenos rechazaron este domingo por una abrumadora mayoría del 62,2% de los votos contra un 37,8% la propuesta de nueva Constitución que buscaba establecer mayores derechos sociales, de acuerdo a  resultados parciales del 72,19% de votos escrutados. El triunfo del rechazo se ubicó muy por sobre las proyecciones de las encuestas, que habían adelantado que la opción de rechazo al cambio constitucional se impondría pero no con este nivel de diferencia. \",\"mainEntityOfPage\":{\"@type\":\"WebPage\"},\"publisher\":{\"@type\":\"Organization\",\"@id\":\"#PublisherOrg\",\"name\":\"Página12\",\"logo\":{\"@type\":\"ImageObject\",\"url\":\"https://www.pagina12.com.ar/assets/media/logo_default_p12.png\",\"width\":\"600\",\"height\":\"60\"}},\"image\":{\"@type\":\"ImageObject\",\"url\":\"https://www.pagina12.com.ar/assets/media/logo_default_p12.png\"},\"author\":{\"@type\":\"Person\",\"name\":\"Página12\"}},{\"@type\":\"BlogPosting\",\"headline\":\"Gabriel Boric convocó a los líderes de todos los partidos políticos\",\"datePublished\":\"2022-09-04T23:49:20.000Z\",\"dateModified\":\"2022-09-04T23:49:20.000Z\",\"articleBody\":\" Según informó la prensa chilena, está previsto que el presidente, Gabriel Boric, ofrezca un mensaje en cadena nacional en unos minutos, tras difundirse los primeros resultados. Asimismo, se conoció que el mandatario convocó a los líderes de todos los partidos políticos a una reunión este lunes en el Palacio de La Moneda (sede de Gobierno). La noticia se dio a conocer en medio de las proyecciones que con apenas un 23 por ciento de los votos escrutados dan la victoria a los seguidores de la opción del rechazo de la nueva Constitución, que mantendría en vigor la actual, escrita en 1980 durante la dictadura de Augusto Pinochet (1973-1990) y reformada de forma parcial en democracia. Tras votar esta mañana en su natal Punta Arenas, Boric, uno de los impulsores de la nueva Constitución, dijo que fuera el que fuera el resultado, convocaría a los partidos y a la sociedad civil para proseguir con el proceso constituyente. \\\\\" Puedo garantizar que nuestra voluntad y nuestra acción independiente de cual sea el resultado, será convocar a una amplia unidad nacional de todos los sectores, de todas las organizaciones sociales, de la sociedad civil, de los partidos políticos, queremos escuchar todas las voces para poder seguir adelante con este proceso\\\\\", subrayó. \",\"mainEntityOfPage\":{\"@type\":\"WebPage\"},\"publisher\":{\"@type\":\"Organization\",\"@id\":\"#PublisherOrg\",\"name\":\"Página12\",\"logo\":{\"@type\":\"ImageObject\",\"url\":\"https://www.pagina12.com.ar/assets/media/logo_default_p12.png\",\"width\":\"600\",\"height\":\"60\"}},\"image\":{\"@type\":\"ImageObject\",\"url\":\"https://www.pagina12.com.ar/assets/media/logo_default_p12.png\"},\"author\":{\"@type\":\"Person\",\"name\":\"Página12\"}},{\"@type\":\"BlogPosting\",\"headline\":\"Más ventaja para el rechazo\",\"datePublished\":\"2022-09-04T23:40:22.000Z\",\"dateModified\":\"2022-09-04T23:40:22.000Z\",\"articleBody\":\" El Servel arrojó un nuevo resultado con 8915 mesas escrutadas de 38.757, es decir, un 23 por ciento: e l “rechazo” lleva una amplia distancia del “apruebo”, con un 62,98 por ciento que sobrepasa al 37,02 por ciento. En un primer análisis de los resultados, el presidente de la Unión Demócrata Independiente (UDI), fuerza conservadora, Javier Macaya, aseguró que \\\\\"esto superó absolutamente el escenario tradicional de la derecha contra la izquierda. Esa es la razón por la cual hoy día ha triunfado el sentido común\\\\\". En esa misma línea, Fidel Espinoza, senador del Partido Socialista en la región meridional de Los Lagos, criticó duramente a los convencionales y los emplazó a hacerse responsable de lo que tildó de “debacle”. “Háganse responsables los señores convencionales de esta debacle. Redactaron una Constitución desde el odio y sus frustraciones”, indicó. \",\"mainEntityOfPage\":{\"@type\":\"WebPage\"},\"publisher\":{\"@type\":\"Organization\",\"@id\":\"#PublisherOrg\",\"name\":\"Página12\",\"logo\":{\"@type\":\"ImageObject\",\"url\":\"https://www.pagina12.com.ar/assets/media/logo_default_p12.png\",\"width\":\"600\",\"height\":\"60\"}},\"image\":{\"@type\":\"ImageObject\",\"url\":\"https://www.pagina12.com.ar/assets/media/logo_default_p12.png\"},\"author\":{\"@type\":\"Person\",\"name\":\"Página12\"}},{\"@type\":\"BlogPosting\",\"headline\":\"Nueva actualización: por primera vez, el \\\\\"Rechazo\\\\\" supera al \\\\\"Apruebo\\\\\"\",\"datePublished\":\"2022-09-04T23:17:56.000Z\",\"dateModified\":\"2022-09-04T23:17:56.000Z\",\"articleBody\":\" Con apenas el 6,4 por ciento de las mesas escrutadas, un reciente informe del Servel arrojó que el “rechazo” lidera la votación con un 62,96% de los votos contra un 37,04% para el “apruebo”. El presidente Boric ya convocó a una reunión con todos los presidentes de partidos para mañana en la sede presidencial, el palacio de La Moneda. \",\"mainEntityOfPage\":{\"@type\":\"WebPage\"},\"publisher\":{\"@type\":\"Organization\",\"@id\":\"#PublisherOrg\",\"name\":\"Página12\",\"logo\":{\"@type\":\"ImageObject\",\"url\":\"https://www.pagina12.com.ar/assets/media/logo_default_p12.png\",\"width\":\"600\",\"height\":\"60\"}},\"image\":{\"@type\":\"ImageObject\",\"url\":\"https://www.pagina12.com.ar/assets/media/logo_default_p12.png\"},\"author\":{\"@type\":\"Person\",\"name\":\"Página12\"}},{\"@type\":\"BlogPosting\",\"headline\":\"Para analistas, el resultado será bastante reñido\",\"datePublished\":\"2022-09-04T22:53:14.000Z\",\"dateModified\":\"2022-09-04T22:53:14.000Z\",\"articleBody\":\" Según analistas, habrá una tendencia clara cuando el escrutinio alcance el 30% o el 50% de los votos , según la distancia que haya entre las distintas opciones. Los votos válidos son únicamente aquellos dirigidos a una u otra opción. Medios, analistas y el gobierno coincidieron en señalar que fue una jornada con alta participación . En este plebiscito el voto era obligatorio , a diferencia de las demás instancias electorales que ha celebrado Chile desde 2012. En Chile, el dato oficial de participación suele actualizarse con el escrutinio de los votos, por lo que se conoce recién al final de la jornada. Las encuestas , cuya difusión está prohibida en las dos semanas previas a las elecciones, indicaban que era más el rechazo que el apoyo al borrador constitucionales. Sin embargo, analistas indican que en los últimos días se redujo la distancia entre ambas opciones y que el resultado es incierto. Si el texto es aprobado, el gobierno de Boric lanzará esta misma semana una serie de reuniones para su implementación, explicó este domingo la ministra vocera de gobierno, Camila Vallejo. Si es rechazado, la intención del gobierno es reiniciar el proceso constituyente , ya que en el plebiscito de octubre de 2020 los chilenos se pronunciaron masivamente por una nueva Constitución redactada por una convención constitucional. \",\"mainEntityOfPage\":{\"@type\":\"WebPage\"},\"publisher\":{\"@type\":\"Organization\",\"@id\":\"#PublisherOrg\",\"name\":\"Página12\",\"logo\":{\"@type\":\"ImageObject\",\"url\":\"https://www.pagina12.com.ar/assets/media/logo_default_p12.png\",\"width\":\"600\",\"height\":\"60\"}},\"image\":{\"@type\":\"ImageObject\",\"url\":\"https://www.pagina12.com.ar/assets/media/logo_default_p12.png\"},\"author\":{\"@type\":\"Person\",\"name\":\"Página12\"}},{\"@type\":\"BlogPosting\",\"headline\":\"Cómo vota cada región\",\"datePublished\":\"2022-09-04T22:48:50.000Z\",\"dateModified\":\"2022-09-04T22:48:50.000Z\",\"articleBody\":\" \\\\n Para habilitar la compatibilidad con lectores de pantalla, pulsa ⌘+Opción+Z. Para obtener información acerca de las combinaciones de teclas, pulsa ⌘barra diagonal.\\\\n \\\\n \\\\n \",\"mainEntityOfPage\":{\"@type\":\"WebPage\"},\"publisher\":{\"@type\":\"Organization\",\"@id\":\"#PublisherOrg\",\"name\":\"Página12\",\"logo\":{\"@type\":\"ImageObject\",\"url\":\"https://www.pagina12.com.ar/assets/media/logo_default_p12.png\",\"width\":\"600\",\"height\":\"60\"}},\"image\":{\"@type\":\"ImageObject\",\"url\":\"https://www.pagina12.com.ar/assets/media/logo_default_p12.png\"},\"author\":{\"@type\":\"Person\",\"name\":\"Página12\"}},{\"@type\":\"BlogPosting\",\"headline\":\"Empezó el escrutinio\",\"datePublished\":\"2022-09-04T22:36:27.000Z\",\"dateModified\":\"2022-09-04T22:36:27.000Z\",\"articleBody\":\" Ya empezó el conteo de votos en el plebiscito convocado para este domingo en Chile para aprobar o rechazar una propuesta de Constitución que busca cambiar la heredada de la dictadura de Augusto Pinochet (1973-1989) por otra con más derechos sociales. Más de 15 millones de electores estaban convocados a las urnas. Las primeras mesas comenzaron a cerrar en la ciudad de Punta Arenas, en el extremo sur de Chile, en una jornada de \\\\\"absoluta normalidad\\\\\", según el director general de la policía, Ricardo Yañez. El plebiscito, de voto obligatorio, se desarrolló con una alta participación de votantes en todo el país. En el exterior, donde hay unos 100.000 chilenos inscritos y el voto es voluntario al contrario que en su país, los primeros resultados arrojaron una estrecha diferencia entre las opciones de \\\\\"apoyo\\\\\" y \\\\\"rechazo\\\\\" a la propuesta constitucional, según medios chilenos en base a datos consulares. El nuevo texto, de 388 artículos y elaborado durante un año por una Convención Constitucional, consagra un \\\\\"Estado social de derechos\\\\\", en respuesta a reclamos expresados en las masivas manifestaciones de octubre de 2019. El proyecto consagra la plurinacionalidad indígena y establece un nuevo catálogo de derechos sociales en salud, aborto, educación y pensiones, con un marcado énfasis medioambiental, y mantiene el modelo de economía de mercado. \",\"mainEntityOfPage\":{\"@type\":\"WebPage\"},\"publisher\":{\"@type\":\"Organization\",\"@id\":\"#PublisherOrg\",\"name\":\"Página12\",\"logo\":{\"@type\":\"ImageObject\",\"url\":\"https://www.pagina12.com.ar/assets/media/logo_default_p12.png\",\"width\":\"600\",\"height\":\"60\"}},\"image\":{\"@type\":\"ImageObject\",\"url\":\"https://www.pagina12.com.ar/assets/media/logo_default_p12.png\"},\"author\":{\"@type\":\"Person\",\"name\":\"Página12\"}},{\"@type\":\"BlogPosting\",\"headline\":\"Cerraron los comicios\",\"datePublished\":\"2022-09-04T22:11:48.000Z\",\"dateModified\":\"2022-09-04T22:11:48.000Z\",\"articleBody\":\" Las urnas para el Plebiscito constitucional se cerraron en todo el país a las 18.00 (hora de Chile). \",\"mainEntityOfPage\":{\"@type\":\"WebPage\"},\"publisher\":{\"@type\":\"Organization\",\"@id\":\"#PublisherOrg\",\"name\":\"Página12\",\"logo\":{\"@type\":\"ImageObject\",\"url\":\"https://www.pagina12.com.ar/assets/media/logo_default_p12.png\",\"width\":\"600\",\"height\":\"60\"}},\"image\":{\"@type\":\"ImageObject\",\"url\":\"https://www.pagina12.com.ar/assets/media/logo_default_p12.png\"},\"author\":{\"@type\":\"Person\",\"name\":\"Página12\"}},{\"@type\":\"BlogPosting\",\"headline\":\"El Gobierno chileno hizo un balance positivo de la jornada de votación\",\"datePublished\":\"2022-09-04T21:25:15.000Z\",\"dateModified\":\"2022-09-04T21:25:15.000Z\",\"articleBody\":\" La ministra portavoz del gobierno de Chile, Camila Vallejo , hizo un balance positivo de la jornada de votación de este domingo, en la que el país decidirá si aprueba o rechaza el borrador de la nueva Constitución . \\\\\" Tenemos un balance positivo de esta jornada , no solamente por la alta participación de los ciudadanos y ciudadanas, sino también porque están funcionando nuestras instituciones, el servicio electoral, los locales de votación...\\\\\", dijo Vallejo ante la prensa. \\\\\"Queremos agradecer a todos quienes están contribuyendo a que esta jornada sea participativa, segura, tranquila y democrática\\\\\", añadió. La portavoz del gobierno volvió a recordar en su comparecencia ante los medios que este domingo el voto es obligatorio , a diferencia de las demás instancias electorales que ha celebrado Chile desde 2012. En este sentido, señaló que únicamente quien esté a 200 kilómetros del centro de votación que le corresponde debe comparecer ante una comisaría policial para justificar su no voto. En la tarde se registraron largas filas y extensas esperas en varias comisarías en todo el país. De acuerdo a Carabineros, 55.000 personas se presentaron para hacer el trámite. Consultada sobre cómo continuará el proceso constitucional a partir de mañana, Vallejo dijo que el gobierno seguirá \\\\\"convocando a la participación\\\\\" para \\\\\"mejorar las condiciones de vida de los chilenos\\\\\". Añadió que si gana el Rechazo habrá en Chile \\\\\"otro proceso constituyente\\\\\", mientras si lo hace el Apruebo, el gobierno iniciará el proceso de implementación de la nueva Constitución. Acerca del voto en el exterior, Vallejo dijo que la jornada también \\\\\"se ha desarrollado con tranquilidad, normalidad (y) una importante participación\\\\\". \",\"mainEntityOfPage\":{\"@type\":\"WebPage\"},\"publisher\":{\"@type\":\"Organization\",\"@id\":\"#PublisherOrg\",\"name\":\"Página12\",\"logo\":{\"@type\":\"ImageObject\",\"url\":\"https://www.pagina12.com.ar/assets/media/logo_default_p12.png\",\"width\":\"600\",\"height\":\"60\"}},\"image\":{\"@type\":\"ImageObject\",\"url\":\"https://www.pagina12.com.ar/assets/media/logo_default_p12.png\"},\"author\":{\"@type\":\"Person\",\"name\":\"Página12\"}},{\"@type\":\"BlogPosting\",\"headline\":\"Ricardo Lagos aseguró que el plebiscito de salida es una “votación trascendente como pocas” en el país\",\"datePublished\":\"2022-09-04T21:10:08.000Z\",\"dateModified\":\"2022-09-04T21:10:08.000Z\",\"articleBody\":\" El expresidente de Chile , Ricardo Lagos , calificó la jornada electoral que se desarrolla este domingo en el país por el plebiscito de salida , como una “votación trascendente como pocas” en el país. Aseguró, tras ejercer su voto, que la máxima participación le dará “ mayor legitimidad al ejercicio cívico” . El exmandatario señaló que “lo que debería haber sido una fiesta de reencuentro de los chilenos, ha terminado siendo un proceso donde apruebo y rechazo son muy equivalentes ”. “Esto me preocupa enormemente porque los chilenos tenemos que ser capaces de tener convergencia y unidad, si no lo logramos de inmediato, querrá decir que el día 5 (de septiembre) empezará de nuevo un nuevo debate constitucional en Chile ”, sostuvo el expresidente. Para Lagos, Chile tiene volver a ser el país en el cual la población sea capaz de entenderse. “Lo que tenemos acá es un estado de odiosidad con motivo de este ejercicio y esto no es viable en una sociedad civilizada”. “Es importante que los chilenos podamos actuar con una sola voz frente al tema que vamos a estar definiendo: la Constitución que nos guíe por los próximos 30, 40 o 50 años”, dijo lagos. El exmandatario sostuvo que esta noche, tras conocerse los resultados, el país le dará una lección al mundo , que estará mirando \\\\\"qué pasa en Chile y qué va a ocurrir hacia delante\\\\\". Además, llamó a atender lo que diga el Servicio Electoral: “ No hay necesidad de salir a las calles a defender nada ”, señaló. El expresidente explicó que este domingo se aprobará o rechazará “un texto constitucional”, que “es la ley de las leyes”. Según el exmandatario, una carta constitucional significa las normas por las cuales civilizadamente los ciudadanos resuelven diferencias naturales en toda sociedad. “Ese es el tema central de lo que se vota hoy. Cómo aquello que ha sido propuesto va a ser aceptado o va a ser rechazado por la ciudadanía”, indicó. Lagos aseguró que si gana el Apruebo habrá temas para reformar, y que si vence el Rechazo se verá cómo se sigue nuevamente el proceso, en el que el presidente Gabriel Boric “tendrá que hacer las tareas adecuadas” . “Estoy seguro de que Boric va a ser capaz de afrontar las definiciones que tiene que hacer por el bien de Chile”, afirmó. \",\"mainEntityOfPage\":{\"@type\":\"WebPage\"},\"publisher\":{\"@type\":\"Organization\",\"@id\":\"#PublisherOrg\",\"name\":\"Página12\",\"logo\":{\"@type\":\"ImageObject\",\"url\":\"https://www.pagina12.com.ar/assets/media/logo_default_p12.png\",\"width\":\"600\",\"height\":\"60\"}},\"image\":{\"@type\":\"ImageObject\",\"url\":\"https://www.pagina12.com.ar/assets/media/logo_default_p12.png\"},\"author\":{\"@type\":\"Person\",\"name\":\"Página12\"}},{\"@type\":\"BlogPosting\",\"headline\":\"Eduardo Frei aseguró que la población quiere una Constitución que sea para \\\\\"todos y de todos\\\\\"\",\"datePublished\":\"2022-09-04T20:17:50.000Z\",\"dateModified\":\"2022-09-04T20:17:50.000Z\",\"articleBody\":\" El expresidente de Chile , Eduardo Frei , aseguró que independientemente del resultado del plebiscito de salida que se desarrolla este domingo en el país, a partir de este lunes se abrirá “una nueva etapa”. “Mañana todos los actores, el presidente ( Gabriel Boric ) especialmente, el gobierno, los parlamentarios, los partidos políticos y los actores sociales, tienen que contribuir a que vuelva normalidad en el país y la tranquilidad ”, dijo el exmandatario tras sufragar. Frei aseguró que la población quiere una Constitución que sea \\\\\"para todos y de todos\\\\\" . “Que sea apoyada por la gran mayoría de los chilenos para no seguir en esta incertidumbre y en este permanente ambiente de intolerancia”, expresó. “Todos los sectores políticos importantes, todos los sectores sociales y el gobierno han dicho que hay que buscar y hacer reformas en lo que tenemos porque no es suficiente para lo que quieren todos los chilenos”, señaló. Según el expresidente, “el anhelo de todos los chilenos es tener una nueva Constitución” y desde este lunes “todos los actores tendrán que cumplir su rol para conseguir ese objetivo”. Más de 15 millones de personas están habilitadas para votar este domingo si aprueban o rechazan el borrador del texto constitucional. La iniciativa tiene 388 artículos divididos en once capítulos. La nueva Constitución elimina el Senado e incluye el derecho al aborto y la muerte digna, así como el reconocimiento a la pluralidad y del patrimonio de los pueblos indígenas que componen el territorio chileno. \",\"mainEntityOfPage\":{\"@type\":\"WebPage\"},\"publisher\":{\"@type\":\"Organization\",\"@id\":\"#PublisherOrg\",\"name\":\"Página12\",\"logo\":{\"@type\":\"ImageObject\",\"url\":\"https://www.pagina12.com.ar/assets/media/logo_default_p12.png\",\"width\":\"600\",\"height\":\"60\"}},\"image\":{\"@type\":\"ImageObject\",\"url\":\"https://www.pagina12.com.ar/assets/media/logo_default_p12.png\"},\"author\":{\"@type\":\"Person\",\"name\":\"Página12\"}},{\"@type\":\"BlogPosting\",\"headline\":\"Sebastián Piñera aseguró que tiene “un compromiso por una nueva y buena Constitución”\",\"datePublished\":\"2022-09-04T19:45:57.000Z\",\"dateModified\":\"2022-09-04T19:45:57.000Z\",\"articleBody\":\" El expresidente de Chile, Sebastián Piñera , llamó este domingo a votar con “alegría y esperanza”, porque según dijo, lo mejor para el país “está todavía por delante”. Aún sin pronunciarse sobre su elección en el plebiscito de salida , aseguró que tiene “un compromiso por una nueva y buena Constitución ”, frase utilizada por la campaña del Rechazo . “Ese compromiso lo vamos a cumplir”, afirmó. “Yo creo que en los últimos tiempos los chilenos nos hemos desviado del camino y a partir de esta noche es muy importante que la unidad prevalezca sobre la división, la paz sobre la violencia, el diálogo sobre la colaboración y una nueva cultura”, señaló Piñera. “Dejemos atrás la cultura de la cancelación”, añadió. El exmandatario aseguró que “en los últimos tiempos la división y la confrontación han pasado todos los límites”. “Estoy seguro de que esta noche vamos a tener un camino, un buen camino para Chile”, expresó Piñera tras ejercer su voto. Más de 15 millones de personas están habilitadas para votar este domingo si aprueban o rechazan el borrador del texto constitucional. La iniciativa tiene 388 artículos divididos en once capítulos. La nueva Constitución elimina el Senado e incluye el derecho al aborto y la muerte digna, así como el reconocimiento a la pluralidad y del patrimonio de los pueblos indígenas que componen el territorio chileno. \",\"mainEntityOfPage\":{\"@type\":\"WebPage\"},\"publisher\":{\"@type\":\"Organization\",\"@id\":\"#PublisherOrg\",\"name\":\"Página12\",\"logo\":{\"@type\":\"ImageObject\",\"url\":\"https://www.pagina12.com.ar/assets/media/logo_default_p12.png\",\"width\":\"600\",\"height\":\"60\"}},\"image\":{\"@type\":\"ImageObject\",\"url\":\"https://www.pagina12.com.ar/assets/media/logo_default_p12.png\"},\"author\":{\"@type\":\"Person\",\"name\":\"Página12\"}},{\"@type\":\"BlogPosting\",\"headline\":\"El presidente Gabriel Boric calificó como \\\\\"un momento histórico\\\\\" la votación de este domingo\",\"datePublished\":\"2022-09-04T19:30:14.000Z\",\"dateModified\":\"2022-09-04T19:30:14.000Z\",\"articleBody\":\" El presidente de Chile , Gabriel Boric , dijo luego de votar esta mañana en el plebiscito constitucional que el país está ante un “momento histórico” del que todos los ciudadanos deben estar “orgullosos”. El mandatario votó en Punta Arenas, al sur del país, acompañado por su familia. “En los momentos difíciles que pasamos como país, tomamos como opción para resolver las diferencias avanzar en más democracia. Eso es algo que nos debe hacer reforzar el orgullo patrio”, afirmó el mandatario en una breve conferencia de prensa. Boric dijo que su gobierno trabaja para construir un país “en unidad” y sostuvo que “independientemente de cuál sea el resultado” de la votación de hoy, su rol será “avanzar en justicia, igualdad, y mayor desarrollo de crecimiento”. “Confío en la sabiduría del pueblo chileno”. El mandatario informó que luego de la jornada de hoy, convocará a una “amplia unidad nacional” en la que participen los partidos políticos y organizaciones sociales para “seguir adelante con este proceso” constitucional. Si gana la opción Apruebo, dijo, avanzará en implementar el nuevo texto. Para ello, el gobierno ya viene trabajando con personas especializadas para analizar cómo se irá aplicando el texto y qué tipo de reformas deben hacer. En caso de que gane la opción Rechazo, Boric dijo que hay una “gran voluntad” para seguir adelante con el tema. “Las divisiones no nos hacen bien”, agregó. Más de 15 millones de personas están habilitadas para votar este domingo si aprueban o rechazan el borrador del texto constitucional. La iniciativa tiene 388 artículos divididos en once capítulos. La nueva Constitución elimina el Senado e incluye el derecho al aborto y la muerte digna, así como el reconocimiento a la pluralidad y del patrimonio de los pueblos indígenas que componen el territorio chileno. \",\"mainEntityOfPage\":{\"@type\":\"WebPage\"},\"publisher\":{\"@type\":\"Organization\",\"@id\":\"#PublisherOrg\",\"name\":\"Página12\",\"logo\":{\"@type\":\"ImageObject\",\"url\":\"https://www.pagina12.com.ar/assets/media/logo_default_p12.png\",\"width\":\"600\",\"height\":\"60\"}},\"image\":{\"@type\":\"ImageObject\",\"url\":\"https://www.pagina12.com.ar/assets/media/logo_default_p12.png\"},\"author\":{\"@type\":\"Person\",\"name\":\"Página12\"}},{\"@type\":\"BlogPosting\",\"headline\":\"La votación en el exterior\",\"datePublished\":\"2022-09-04T19:13:38.000Z\",\"dateModified\":\"2022-09-04T19:13:38.000Z\",\"articleBody\":\" A las 16 horas del sábado comenzó la votación en ele exterior, con la apertura de la mesa de votación en Auckland, Nueva Zelanda, donde hay 1.114 electores habilitados para votar. Son 235 mesas las que se encuentran abiertas en 64 países, con un total de 97.215 habilitadas. Originalmente, eran 65 y se contabilizaba Haití, sin embargo, las condiciones sociopolíticas hicieron que en ese país no se pudiera realizar el proceso electoral. A diferencia de los chilenos que se encuentran en su país, la votación en el extranjero es opcional. “Este es el octavo proceso de voto en el exterior, es el segundo Plebiscito, estamos muy emocionadas, porque lo que estamos celebrando es el inicio del proceso del Plebiscito Constitucional para Chile, partiendo con los chilenos y chilenas en el exterior\\\\\", señaló la Ministra, Antonia Urrejola. La expresidenta de Chile, Michelle Bachelet , ya emitió su voto en Ginebra. “Ojalá las y los chilenos se levanten con ánimo y entusiasmo para votar, porque está en las manos de todos nosotros nuestro futuro y destino”, señaló. Según Bachelet, es fundamental que los chilenos acudan a votar. “Todos saben cuál es mi opción, lo he dicho con claridad, dije que me recordaba a la canción de Pablo Milanés: ‘No es perfecta, más se acerca a lo que siempre soñé’”. Según los resultados preliminares, la opción Apruebo se impone sobre el Rechazo en el exterior. \",\"mainEntityOfPage\":{\"@type\":\"WebPage\"},\"publisher\":{\"@type\":\"Organization\",\"@id\":\"#PublisherOrg\",\"name\":\"Página12\",\"logo\":{\"@type\":\"ImageObject\",\"url\":\"https://www.pagina12.com.ar/assets/media/logo_default_p12.png\",\"width\":\"600\",\"height\":\"60\"}},\"image\":{\"@type\":\"ImageObject\",\"url\":\"https://www.pagina12.com.ar/assets/media/logo_default_p12.png\"},\"author\":{\"@type\":\"Person\",\"name\":\"Página12\"}},{\"@type\":\"BlogPosting\",\"headline\":\"Los datos de la elección\",\"datePublished\":\"2022-09-04T19:11:57.000Z\",\"dateModified\":\"2022-09-04T19:11:57.000Z\",\"articleBody\":\" Este domingo, los chilenos deciden si aprueban o rechazan la propuesta de nueva Constitución de Chile . Son 15.173.929 las personas están habilitadas para votar en el plebiscito de salida. Las urnas estarán abiertas hasta las 18.00 (hora de Chile). A diferencia de otras elecciones, en este caso el voto es obligatorio. No concurrir a votar implica una multa que va desde los 30 mil a 180 mil pesos (de 34 a 204 dólares). El borrador elaborado por los 155 convencionales, tiene 388 artículos divididos en once capítulos más una serie de disposiciones transitorias. Fueron 10 meses de trabajo, en los que los constituyentes lograron varios acuerdos y dejaron atrás algunas de las propuestas más polémicas enviadas por los ciudadanos, como la “cárcel para el expresidente Sebastián Piñera”, la pérdida de autonomía del Banco Central y la protección de la vida desde su concepción. La nueva Constitución elimina el Senado e incluye el derecho al aborto y la muerte digna, así como el reconocimiento a la pluralidad y del patrimonio de los pueblos indígenas que componen el territorio chileno. \",\"mainEntityOfPage\":{\"@type\":\"WebPage\"},\"publisher\":{\"@type\":\"Organization\",\"@id\":\"#PublisherOrg\",\"name\":\"Página12\",\"logo\":{\"@type\":\"ImageObject\",\"url\":\"https://www.pagina12.com.ar/assets/media/logo_default_p12.png\",\"width\":\"600\",\"height\":\"60\"}},\"image\":{\"@type\":\"ImageObject\",\"url\":\"https://www.pagina12.com.ar/assets/media/logo_default_p12.png\"},\"author\":{\"@type\":\"Person\",\"name\":\"Página12\"}}]]} 11 de septiembre de 2022 Edición Impresa PDF Defendé la otra mirada por $300 x mes Iniciar sesión Hacete soci@ Hacete soci@ 11 de septiembre de 2022 Edición Impresa PDF Hoy: Cash Radar Libros Radar Secciones y Suplementos Hoy: Cash Radar Libros Radar Secciones El país Economía Sociedad Espectáculos Deportes Ciencia El mundo Edición impresa Universidad Ajedrez Cultura Diálogos Plástica Psicología Cartas de lectores Contratapa Audiovisuales Recordatorios Consumo Salta12 Catamarca12 La Rioja12 Podcasts Soci@s La ventana Suplementos Principal/Diario Universidad Cultura y Espectáculos Cash Radar Turismo Radar Libros NO Soy Las12 Sátira12 Rosario12 Verano12 Líbero Especiales de P12 Medios GO Noticias AM750 ARN Malena Latinoamérica Piensa El país Economía Sociedad Espectáculos Deportes Ciencia El mundo Hoy: Cash Radar Libros Radar Soci@s Mi cuenta Ayuda Términos y condiciones Cerrar Sesión plebiscito Chile Portada El mundo Se impuso el \"Rechazo\" y Chile no puede decir adiós a la herencia de Pinochet Chile vota el destino de una nueva Constitución: los resultados del Plebiscito Con ya un gran porcentaje de las mesas escrutadas, la opción por mantener vigente la Carta Magna de la última dictadura se impone ante la variante \"Apruebo\". Todas las novedades de la votación, minuto a minuto. 4 de septiembre de 2022 - 22:33 El pueblo chileno elige su futuro\\xa0Imagen: AFP Imagen: AFP Este domingo los chilenos decidieron rechazar la propuesta de Nueva Constitución , elaborada durante un año, desde el 4 de julio de 2021 por una Convención Constituyente elegida por la ciudadanía que le ponía fin a la Carta Magna decidida por Augusto Pinochet. Los resultados, minuto a minuto Para habilitar la compatibilidad con lectores de pantalla, pulsa ⌘+Opción+Z. Para obtener información acerca de las combinaciones de teclas, pulsa ⌘barra diagonal. Cómo votó cada región Para habilitar la compatibilidad con lectores de pantalla, pulsa ⌘+Opción+Z. Para obtener información acerca de las combinaciones de teclas, pulsa ⌘barra diagonal.'"
      ]
     },
     "execution_count": 34,
     "metadata": {},
     "output_type": "execute_result"
    }
   ],
   "source": [
    "data.TEXTO[87]"
   ]
  },
  {
   "cell_type": "code",
   "execution_count": 15,
   "id": "dd4b7000-b27e-4ed4-96f7-b31e58bd305f",
   "metadata": {},
   "outputs": [],
   "source": [
    "data.to_csv('Articulos_test_ultima_semana.csv',index=False)"
   ]
  }
 ],
 "metadata": {
  "kernelspec": {
   "display_name": "Python 3 (ipykernel)",
   "language": "python",
   "name": "python3"
  },
  "language_info": {
   "codemirror_mode": {
    "name": "ipython",
    "version": 3
   },
   "file_extension": ".py",
   "mimetype": "text/x-python",
   "name": "python",
   "nbconvert_exporter": "python",
   "pygments_lexer": "ipython3",
   "version": "3.9.12"
  }
 },
 "nbformat": 4,
 "nbformat_minor": 5
}
